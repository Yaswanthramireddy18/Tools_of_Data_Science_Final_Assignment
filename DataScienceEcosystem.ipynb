{
 "cells": [
  {
   "cell_type": "markdown",
   "id": "11b8a8d7-3965-4cdf-aa4f-34457884ac29",
   "metadata": {},
   "source": [
    "# Data Science Tools and Ecosystem"
   ]
  },
  {
   "cell_type": "markdown",
   "id": "de6186d7-fe8e-45a1-a657-aec0d135a43c",
   "metadata": {},
   "source": [
    "## Introduction\n",
    "\n",
    "In this notebook, Data Science Tools and Ecosystem are summarized."
   ]
  },
  {
   "cell_type": "markdown",
   "id": "a977ede7-fb6b-48b5-b3d8-5206991a1062",
   "metadata": {},
   "source": [
    "## Data Science Languages\n",
    "\n",
    "Some of the popular languages that Data Scientists use are:\n",
    "\n",
    "1. Python  \n",
    "2. R  \n",
    "3. SQL  \n",
    "4. Julia  \n",
    "5. JavaScript  \n",
    "6. Scala  "
   ]
  },
  {
   "cell_type": "markdown",
   "id": "571d1574-ef49-414c-8181-b6cbf0982af1",
   "metadata": {},
   "source": [
    "## Data Science Tools\n",
    "\n",
    "| Data Science Tools            |\n",
    "|-------------------------------|\n",
    "| Jupyter Notebook              |\n",
    "| RStudio                       |\n",
    "| Apache Zeppelin               |\n"
   ]
  },
  {
   "cell_type": "markdown",
   "id": "41da6e11-fc28-4df9-985b-4fb87fd70d78",
   "metadata": {},
   "source": [
    "### Below are a few examples of evaluating arithmetic expressions in Python.\n"
   ]
  },
  {
   "cell_type": "code",
   "execution_count": 2,
   "id": "11ac11d2-a88a-4af7-8730-0b8fd0b35915",
   "metadata": {},
   "outputs": [
    {
     "data": {
      "text/plain": [
       "17"
      ]
     },
     "execution_count": 2,
     "metadata": {},
     "output_type": "execute_result"
    }
   ],
   "source": [
    "# This is a simple arithmetic expression to multiply then add integers\n",
    "(3 * 4) + 5"
   ]
  },
  {
   "cell_type": "code",
   "execution_count": 3,
   "id": "c5f88ff2-29b6-4016-9369-dc13e661ef1a",
   "metadata": {},
   "outputs": [
    {
     "data": {
      "text/plain": [
       "3.3333333333333335"
      ]
     },
     "execution_count": 3,
     "metadata": {},
     "output_type": "execute_result"
    }
   ],
   "source": [
    "# This will convert 200 minutes to hours by dividing by 60\n",
    "200 / 60\n"
   ]
  },
  {
   "cell_type": "markdown",
   "id": "76d66523-a8af-4bc4-a673-1f29add41af0",
   "metadata": {},
   "source": [
    "**Objectives:**\n",
    "\n",
    "- List popular languages for Data Science  \n",
    "- Introduce key Data Science tools and development environments  \n",
    "- Provide examples of arithmetic operations in Python  \n",
    "- Demonstrate how to convert units (e.g., minutes to hours)  \n",
    "- Summarize the Data Science ecosystem and tools  \n"
   ]
  },
  {
   "cell_type": "code",
   "execution_count": null,
   "id": "5a4bb9a2-f03b-4158-bd22-3143adfb02c7",
   "metadata": {},
   "outputs": [],
   "source": []
  }
 ],
 "metadata": {
  "kernelspec": {
   "display_name": "Python 3 (ipykernel)",
   "language": "python",
   "name": "python3"
  },
  "language_info": {
   "codemirror_mode": {
    "name": "ipython",
    "version": 3
   },
   "file_extension": ".py",
   "mimetype": "text/x-python",
   "name": "python",
   "nbconvert_exporter": "python",
   "pygments_lexer": "ipython3",
   "version": "3.11.7"
  }
 },
 "nbformat": 4,
 "nbformat_minor": 5
}
